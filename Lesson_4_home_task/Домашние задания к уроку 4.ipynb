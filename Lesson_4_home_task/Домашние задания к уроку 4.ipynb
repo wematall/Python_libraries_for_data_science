{
 "cells": [
  {
   "cell_type": "markdown",
   "metadata": {},
   "source": [
    "### Тема “Визуализация данных в Matplotlib”"
   ]
  },
  {
   "cell_type": "markdown",
   "metadata": {},
   "source": [
    "#### Домашние задания"
   ]
  },
  {
   "cell_type": "markdown",
   "metadata": {},
   "source": [
    "#### Задание 1"
   ]
  },
  {
   "cell_type": "markdown",
   "metadata": {},
   "source": [
    "Загрузите модуль pyplot библиотеки matplotlib с псевдонимом plt,\n",
    "а также библиотеку numpy с псевдонимом np.\n",
    "\n",
    "Примените магическую функцию %matplotlib inline для отображения графиков в Jupyter Notebook\n",
    "\n",
    "и настройки конфигурации ноутбука со значением 'svg' для более четкого отображения графиков.\n",
    "\n",
    "Создайте список под названием x с числами 1, 2, 3, 4, 5, 6, 7 \n",
    "\n",
    "и список y с числами 3.5, 3.8, 4.2, 4.5, 5, 5.5, 7.\n",
    "\n",
    "С помощью функции plot постройте график, соединяющий линиями точки с горизонтальными координатами\n",
    "\n",
    "из списка x и вертикальными - из списка y.\n",
    "\n",
    "Затем в следующей ячейке постройте диаграмму рассеяния \n",
    "\n",
    "(другие названия - диаграмма разброса, scatter plot).\n"
   ]
  },
  {
   "cell_type": "code",
   "execution_count": 1,
   "metadata": {},
   "outputs": [],
   "source": [
    "# Загрузите модуль pyplot библиотеки matplotlib с псевдонимом plt,\n",
    "# а также библиотеку numpy с псевдонимом np.\n",
    "# Примените магическую функцию %matplotlib inline \n",
    "# для отображения графиков в Jupyter Notebook\n",
    "# и настройки конфигурации ноутбука со значением 'svg' для более четкого отображения графиков.\n",
    "\n",
    "import numpy as np\n",
    "from matplotlib import pyplot as plt\n",
    "\n",
    "%matplotlib inline\n",
    "%config InlineBacked.figure_format = 'svg'"
   ]
  },
  {
   "cell_type": "code",
   "execution_count": 2,
   "metadata": {},
   "outputs": [
    {
     "name": "stdout",
     "output_type": "stream",
     "text": [
      "[1, 2, 3, 4, 5, 6, 7]\n"
     ]
    }
   ],
   "source": [
    "# Создайте список под названием x с числами 1, 2, 3, 4, 5, 6, 7\n",
    "x = [1, 2, 3, 4, 5, 6, 7]\n",
    "print(x)"
   ]
  },
  {
   "cell_type": "code",
   "execution_count": 3,
   "metadata": {},
   "outputs": [
    {
     "name": "stdout",
     "output_type": "stream",
     "text": [
      "[3.5, 3.8, 4.2, 4.5, 5, 5.5, 7]\n"
     ]
    }
   ],
   "source": [
    "# список y с числами 3.5, 3.8, 4.2, 4.5, 5, 5.5, 7.\n",
    "y = [3.5, 3.8, 4.2, 4.5, 5, 5.5, 7]\n",
    "print(y)"
   ]
  },
  {
   "cell_type": "code",
   "execution_count": 4,
   "metadata": {},
   "outputs": [
    {
     "data": {
      "image/png": "[encoded data removed]",
      "text/plain": [
       "<Figure size 432x288 with 1 Axes>"
      ]
     },
     "metadata": {
      "needs_background": "light"
     },
     "output_type": "display_data"
    }
   ],
   "source": [
    "# С помощью функции plot постройте график, \n",
    "# соединяющий линиями точки с горизонтальными координатами\n",
    "# из списка x и вертикальными - из списка y.\n",
    "\n",
    "plt.plot(x, y)\n",
    "\n",
    "plt.title(\"График\")\n",
    "plt.xlabel(\"Точки (x)\")\n",
    "plt.ylabel(\"Точки (y)\")\n",
    "plt.show()"
   ]
  },
  {
   "cell_type": "code",
   "execution_count": 5,
   "metadata": {},
   "outputs": [
    {
     "data": {
      "image/png": "[encoded data removed]",
      "text/plain": [
       "<Figure size 432x288 with 1 Axes>"
      ]
     },
     "metadata": {
      "needs_background": "light"
     },
     "output_type": "display_data"
    }
   ],
   "source": [
    "# Затем в следующей ячейке постройте диаграмму рассеяния\n",
    "# (другие названия - диаграмма разброса, scatter plot).\n",
    "\n",
    "plt.scatter(x, y)\n",
    "\n",
    "plt.title(\"График\")\n",
    "plt.xlabel(\"Точки (x)\")\n",
    "plt.ylabel(\"Точки (y)\")\n",
    "plt.show()"
   ]
  },
  {
   "cell_type": "code",
   "execution_count": null,
   "metadata": {},
   "outputs": [],
   "source": []
  }
 ],
 "metadata": {
  "kernelspec": {
   "display_name": "Python 3",
   "language": "python",
   "name": "python3"
  },
  "language_info": {
   "codemirror_mode": {
    "name": "ipython",
    "version": 3
   },
   "file_extension": ".py",
   "mimetype": "text/x-python",
   "name": "python",
   "nbconvert_exporter": "python",
   "pygments_lexer": "ipython3",
   "version": "3.7.6"
  }
 },
 "nbformat": 4,
 "nbformat_minor": 4
}
