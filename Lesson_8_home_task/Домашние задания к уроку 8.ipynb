{
 "cells": [
  {
   "cell_type": "markdown",
   "metadata": {},
   "source": [
    "### Тема: \"Обучение без учителя\""
   ]
  },
  {
   "cell_type": "markdown",
   "metadata": {},
   "source": [
    "#### Задание 1"
   ]
  },
  {
   "cell_type": "markdown",
   "metadata": {},
   "source": [
    "Импортируйте библиотеки pandas, numpy и matplotlib.\n",
    "\n",
    "Загрузите \"Boston House Prices dataset\" из встроенных наборов данных библиотеки sklearn.\n",
    "\n",
    "Создайте датафреймы X и y из этих данных.\n",
    "\n",
    "Разбейте эти датафреймы на тренировочные (X_train, y_train) и тестовые (X_test, y_test)\n",
    "с помощью функции train_test_split так, чтобы размер тестовой выборки\n",
    "составлял 20% от всех данных, при этом аргумент random_state должен быть равен 42.\n",
    "\n",
    "Масштабируйте данные с помощью StandardScaler.\n",
    "\n",
    "Постройте модель TSNE на тренировочный данных с параметрами:\n",
    "\n",
    "n_components=2, learning_rate=250, random_state=42.\n",
    "\n",
    "Постройте диаграмму рассеяния на этих данных.\n"
   ]
  },
  {
   "cell_type": "code",
   "execution_count": 1,
   "metadata": {},
   "outputs": [],
   "source": [
    "# Импортируйте библиотеки pandas, numpy и matplotlib.\n",
    "\n",
    "import numpy as np\n",
    "import pandas as pd\n",
    "from matplotlib import pyplot as plt\n",
    "\n",
    "from sklearn.datasets import load_boston\n",
    "from sklearn.model_selection import train_test_split\n",
    "from sklearn.preprocessing import StandardScaler\n",
    "from sklearn.manifold import TSNE\n",
    "\n",
    "plt.style.use('fivethirtyeight')\n",
    "\n",
    "%config InlineBacked.figure_format = 'svg'\n",
    "%matplotlib inline"
   ]
  },
  {
   "cell_type": "code",
   "execution_count": 2,
   "metadata": {},
   "outputs": [],
   "source": [
    "# Загрузите \"Boston House Prices dataset\" из встроенных наборов данных библиотеки sklearn.\n",
    "boston = load_boston()\n",
    "\n",
    "data = boston[\"data\"]\n",
    "target = boston[\"target\"]\n",
    "feature_names = boston[\"feature_names\"]\n"
   ]
  },
  {
   "cell_type": "code",
   "execution_count": 3,
   "metadata": {},
   "outputs": [],
   "source": [
    "# создайте датафреймы X и y из этих данных\n",
    "X = pd.DataFrame(data, columns = feature_names)\n",
    "\n",
    "y = pd.DataFrame(target)"
   ]
  },
  {
   "cell_type": "code",
   "execution_count": 4,
   "metadata": {},
   "outputs": [],
   "source": [
    "# Разбейте эти датафреймы на тренировочные (X_train, y_train) и тестовые (X_test, y_test) \n",
    "# с помощью функции train_test_split так, \n",
    "# чтобы размер тестовой выборки составлял 20% от всех данных, \n",
    "# при этом аргумент random_state должен быть равен 42.\n",
    "\n",
    "X_train, X_test, y_train, y_test = train_test_split(X, y, test_size=0.2, random_state=42)"
   ]
  },
  {
   "cell_type": "code",
   "execution_count": 5,
   "metadata": {},
   "outputs": [],
   "source": [
    "# Масштабируйте данные с помощью StandardScaler.\n",
    "scaler = StandardScaler()\n",
    "\n",
    "X_train_scaled = pd.DataFrame(scaler.fit_transform(X_train), columns=X_train.columns)\n",
    "X_test_scaled = pd.DataFrame(scaler.transform(X_test), columns=X_test.columns)"
   ]
  },
  {
   "cell_type": "code",
   "execution_count": 6,
   "metadata": {},
   "outputs": [
    {
     "name": "stdout",
     "output_type": "stream",
     "text": [
      "До:\t(404, 13)\n",
      "После:\t(404, 2)\n"
     ]
    }
   ],
   "source": [
    "# Постройте модель TSNE на тренировочный данных с параметрами:\n",
    "# n_components=2, learning_rate=250, random_state=42.\n",
    "\n",
    "tsne = TSNE(n_components=2, learning_rate=250, random_state=42)\n",
    "X_train_tsne = tsne.fit_transform(X_train_scaled)\n",
    "\n",
    "print('До:\\t{}'.format(X_train_scaled.shape))\n",
    "print('После:\\t{}'.format(X_train_tsne.shape))"
   ]
  },
  {
   "cell_type": "code",
   "execution_count": 8,
   "metadata": {},
   "outputs": [
    {
     "data": {
      "image/png": "[encoded data removed]",
      "text/plain": [
       "<Figure size 432x288 with 1 Axes>"
      ]
     },
     "metadata": {
      "needs_background": "light"
     },
     "output_type": "display_data"
    }
   ],
   "source": [
    "# Постройте диаграмму рассеяния на этих данных\n",
    "plt.scatter(X_train_tsne[:, 0], X_train_tsne[:, 1])\n",
    "\n",
    "plt.title('Train data')\n",
    "\n",
    "plt.show()"
   ]
  },
  {
   "cell_type": "markdown",
   "metadata": {},
   "source": [
    "#### Задание 2"
   ]
  },
  {
   "cell_type": "code",
   "execution_count": null,
   "metadata": {},
   "outputs": [],
   "source": []
  }
 ],
 "metadata": {
  "kernelspec": {
   "display_name": "Python 3",
   "language": "python",
   "name": "python3"
  },
  "language_info": {
   "codemirror_mode": {
    "name": "ipython",
    "version": 3
   },
   "file_extension": ".py",
   "mimetype": "text/x-python",
   "name": "python",
   "nbconvert_exporter": "python",
   "pygments_lexer": "ipython3",
   "version": "3.7.6"
  }
 },
 "nbformat": 4,
 "nbformat_minor": 4
}
